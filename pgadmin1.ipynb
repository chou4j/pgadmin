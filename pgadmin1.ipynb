{
 "cells": [
  {
   "cell_type": "code",
   "execution_count": 7,
   "id": "c67d3d0a",
   "metadata": {},
   "outputs": [],
   "source": [
    "import psycopg2\n",
    "import pandas as pd"
   ]
  },
  {
   "cell_type": "code",
   "execution_count": 8,
   "id": "3b8901bb",
   "metadata": {},
   "outputs": [],
   "source": [
    "conn = psycopg2.connect(database=\"example_database\", user=\"postgres\", \n",
    "                        password=\"50770329\", host=\"127.0.0.1\", \n",
    "                        port=\"5432\")\n",
    "cur = conn.cursor()"
   ]
  },
  {
   "cell_type": "code",
   "execution_count": null,
   "id": "e8242b8c",
   "metadata": {},
   "outputs": [],
   "source": [
    "CREATE TABLE rain (\n",
    "    id SERIAL PRIMARY KEY,\n",
    "    lasttime TIMESTAMP,\n",
    "    ST_NO VARCHAR(10),\n",
    "    M10 FLOAT,\n",
    "    H1 FLOAT,\n",
    "    H3 FLOAT,\n",
    "    H6 FLOAT,\n",
    "    H12 FLOAT,\n",
    "    H24 FLOAT\n",
    ");"
   ]
  },
  {
   "cell_type": "code",
   "execution_count": null,
   "id": "865ff47f",
   "metadata": {},
   "outputs": [],
   "source": [
    "import psycopg2\n",
    "import pandas as pd\n",
    "import requests\n",
    "from datetime import date, datetime as dt, timedelta\n",
    "\n",
    "\n",
    "conn = psycopg2.connect(database=\"example_database\", user=\"postgres\", \n",
    "                        password=\"50770329\", host=\"127.0.0.1\", \n",
    "                        port=\"5432\")\n",
    "\n",
    "print('Opened database successfully')\n",
    "\n",
    "cur = conn.cursor()\n",
    "\n",
    "lasttime = []#time\n",
    "ST_NO = []\n",
    "M10 = []\n",
    "H1 = []\n",
    "H3 = []\n",
    "H6 = []\n",
    "H12 = []\n",
    "H24 = []\n",
    "\n",
    "requests.packages.urllib3.disable_warnings()\n",
    "r = requests.get(\"https://www.eocmap.gov.taipei/eocmap/Meter/RainStationInfo\", verify=False)\n",
    "list_of_dicts = r.json()\n",
    "\n",
    "for i in range(len(list_of_dicts)):\n",
    "    lasttime = str(dt.strptime(str(list_of_dicts[i]['DATE']), '%Y-%m-%dT%H:%M:%S'))\n",
    "    ST_NO = list_of_dicts[i] ['ST_NO']\n",
    "    M10 = list_of_dicts[i] ['M10']\n",
    "    H1 = list_of_dicts[i] ['H1']\n",
    "    H3 = list_of_dicts[i] ['H3']\n",
    "    H6 = list_of_dicts[i] ['H6']\n",
    "    H12 = list_of_dicts[i] ['H12']\n",
    "    H24 = list_of_dicts[i] ['H24']\n",
    "\n",
    "    sql = f\"\"\"\n",
    "        INSERT INTO rain_2(\n",
    "        lasttime, ST_NO, M10 ,H1 ,H3 , H6, H12, H24)\n",
    "        VALUES ('{lasttime}', '{ST_NO}', {M10}, {H1}, {H3}, {H6},{H12},{H24})RETURNING id\"\"\"\n",
    "\n",
    "    cur.execute(sql)\n",
    "    conn.commit()\n",
    "    id = cur.fetchone()[0]\n",
    "\n",
    "\n",
    "conn.close()\n"
   ]
  },
  {
   "cell_type": "code",
   "execution_count": null,
   "id": "e8db6c9e",
   "metadata": {},
   "outputs": [],
   "source": []
  },
  {
   "cell_type": "code",
   "execution_count": null,
   "id": "536baead",
   "metadata": {},
   "outputs": [],
   "source": []
  },
  {
   "cell_type": "code",
   "execution_count": null,
   "id": "11bd9fae",
   "metadata": {},
   "outputs": [],
   "source": []
  }
 ],
 "metadata": {
  "kernelspec": {
   "display_name": "Python 3 (ipykernel)",
   "language": "python",
   "name": "python3"
  },
  "language_info": {
   "codemirror_mode": {
    "name": "ipython",
    "version": 3
   },
   "file_extension": ".py",
   "mimetype": "text/x-python",
   "name": "python",
   "nbconvert_exporter": "python",
   "pygments_lexer": "ipython3",
   "version": "3.10.9"
  }
 },
 "nbformat": 4,
 "nbformat_minor": 5
}
