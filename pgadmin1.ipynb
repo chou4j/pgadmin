{
 "cells": [
  {
   "cell_type": "code",
   "execution_count": 7,
   "id": "280242e1",
   "metadata": {},
   "outputs": [],
   "source": [
    "import psycopg2\n",
    "import pandas as pd"
   ]
  },
  {
   "cell_type": "code",
   "execution_count": 8,
   "id": "cbc0e596",
   "metadata": {},
   "outputs": [],
   "source": [
    "conn = psycopg2.connect(database=\"example_database\", user=\"postgres\", \n",
    "                        password=\"50770329\", host=\"127.0.0.1\", \n",
    "                        port=\"5432\")\n",
    "cur = conn.cursor()"
   ]
  },
  {
   "cell_type": "code",
   "execution_count": null,
   "id": "bd0335d4",
   "metadata": {},
   "outputs": [],
   "source": [
    "CREATE TABLE rain (\n",
    "    id SERIAL PRIMARY KEY,\n",
    "    lasttime TIMESTAMP,\n",
    "    ST_NO VARCHAR(10),\n",
    "    M10 FLOAT,\n",
    "    H1 FLOAT,\n",
    "    H3 FLOAT,\n",
    "    H6 FLOAT,\n",
    "    H12 FLOAT,\n",
    "    H24 FLOAT\n",
    ");"
   ]
  },
  {
   "cell_type": "code",
   "execution_count": null,
   "id": "6772291c",
   "metadata": {},
   "outputs": [],
   "source": []
  },
  {
   "cell_type": "code",
   "execution_count": null,
   "id": "c740091d",
   "metadata": {},
   "outputs": [],
   "source": []
  },
  {
   "cell_type": "code",
   "execution_count": null,
   "id": "78b6951b",
   "metadata": {},
   "outputs": [],
   "source": []
  },
  {
   "cell_type": "code",
   "execution_count": null,
   "id": "9ad50f6c",
   "metadata": {},
   "outputs": [],
   "source": []
  }
 ],
 "metadata": {
  "kernelspec": {
   "display_name": "Python 3 (ipykernel)",
   "language": "python",
   "name": "python3"
  },
  "language_info": {
   "codemirror_mode": {
    "name": "ipython",
    "version": 3
   },
   "file_extension": ".py",
   "mimetype": "text/x-python",
   "name": "python",
   "nbconvert_exporter": "python",
   "pygments_lexer": "ipython3",
   "version": "3.10.9"
  }
 },
 "nbformat": 4,
 "nbformat_minor": 5
}
